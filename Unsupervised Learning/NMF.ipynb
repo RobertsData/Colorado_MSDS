{
 "cells": [
  {
   "cell_type": "markdown",
   "id": "44cef198-e7eb-4566-9b99-5e4c8ac7bd4e",
   "metadata": {},
   "source": [
    "### SKlearn NMF On MovieLens Dataset\n",
    "\n",
    "[Sklearns NMF Documentation](https://scikit-learn.org/stable/modules/generated/sklearn.decomposition.NMF.html)"
   ]
  },
  {
   "cell_type": "code",
   "execution_count": 1,
   "id": "f6490059-a902-4d39-b756-d4186add1a6d",
   "metadata": {},
   "outputs": [],
   "source": [
    "import pandas as pd\n",
    "import numpy as np\n",
    "from matplotlib import pyplot as plt\n",
    "\n",
    "from sklearn.decomposition import NMF"
   ]
  },
  {
   "cell_type": "markdown",
   "id": "f5251679-84c8-4dbe-8812-901feda4d460",
   "metadata": {},
   "source": [
    "#### Load Datasets\n",
    "\n",
    "MovieLens 1M data retrieved from [Kaggle](https://www.kaggle.com/datasets/odedgolden/movielens-1m-dataset)"
   ]
  },
  {
   "cell_type": "code",
   "execution_count": 49,
   "id": "296913a4-a596-40e3-b1c8-d14cb56aeb46",
   "metadata": {},
   "outputs": [
    {
     "name": "stderr",
     "output_type": "stream",
     "text": [
      "/var/folders/qv/kvb4m1dj0478hvc_qcwkg3180000gn/T/ipykernel_8123/3335512358.py:1: ParserWarning: Falling back to the 'python' engine because the 'c' engine does not support regex separators (separators > 1 char and different from '\\s+' are interpreted as regex); you can avoid this warning by specifying engine='python'.\n",
      "  rat = pd.read_csv('ratings.dat', sep ='::', header=None)\n"
     ]
    },
    {
     "data": {
      "text/html": [
       "<div>\n",
       "<style scoped>\n",
       "    .dataframe tbody tr th:only-of-type {\n",
       "        vertical-align: middle;\n",
       "    }\n",
       "\n",
       "    .dataframe tbody tr th {\n",
       "        vertical-align: top;\n",
       "    }\n",
       "\n",
       "    .dataframe thead th {\n",
       "        text-align: right;\n",
       "    }\n",
       "</style>\n",
       "<table border=\"1\" class=\"dataframe\">\n",
       "  <thead>\n",
       "    <tr style=\"text-align: right;\">\n",
       "      <th></th>\n",
       "      <th>user</th>\n",
       "      <th>movie</th>\n",
       "      <th>rating</th>\n",
       "      <th>timestamp</th>\n",
       "    </tr>\n",
       "  </thead>\n",
       "  <tbody>\n",
       "    <tr>\n",
       "      <th>0</th>\n",
       "      <td>1</td>\n",
       "      <td>1193</td>\n",
       "      <td>5</td>\n",
       "      <td>978300760</td>\n",
       "    </tr>\n",
       "    <tr>\n",
       "      <th>1</th>\n",
       "      <td>1</td>\n",
       "      <td>661</td>\n",
       "      <td>3</td>\n",
       "      <td>978302109</td>\n",
       "    </tr>\n",
       "    <tr>\n",
       "      <th>2</th>\n",
       "      <td>1</td>\n",
       "      <td>914</td>\n",
       "      <td>3</td>\n",
       "      <td>978301968</td>\n",
       "    </tr>\n",
       "    <tr>\n",
       "      <th>3</th>\n",
       "      <td>1</td>\n",
       "      <td>3408</td>\n",
       "      <td>4</td>\n",
       "      <td>978300275</td>\n",
       "    </tr>\n",
       "    <tr>\n",
       "      <th>4</th>\n",
       "      <td>1</td>\n",
       "      <td>2355</td>\n",
       "      <td>5</td>\n",
       "      <td>978824291</td>\n",
       "    </tr>\n",
       "  </tbody>\n",
       "</table>\n",
       "</div>"
      ],
      "text/plain": [
       "   user  movie  rating  timestamp\n",
       "0     1   1193       5  978300760\n",
       "1     1    661       3  978302109\n",
       "2     1    914       3  978301968\n",
       "3     1   3408       4  978300275\n",
       "4     1   2355       5  978824291"
      ]
     },
     "execution_count": 49,
     "metadata": {},
     "output_type": "execute_result"
    }
   ],
   "source": [
    "rat = pd.read_csv('ratings.dat', sep ='::', header=None)\n",
    "rat.columns = ['user', 'movie', 'rating', 'timestamp']\n",
    "rat.head()"
   ]
  },
  {
   "cell_type": "markdown",
   "id": "6c0dca43-89c0-4759-8d73-ee9ea44864e7",
   "metadata": {},
   "source": [
    "#### Split Into Train and Test Sets"
   ]
  },
  {
   "cell_type": "code",
   "execution_count": 61,
   "id": "5fcd2b53-47fe-4bab-bf6c-933e1c748e46",
   "metadata": {},
   "outputs": [],
   "source": [
    "from sklearn.model_selection import train_test_split\n",
    "\n",
    "X = rat[['user', 'movie', 'timestamp']].to_numpy()\n",
    "y = rat['rating'].to_numpy()\n",
    "\n",
    "X_train, X_test, y_train, y_test = train_test_split(X, y, test_size=0.25, random_state=12)"
   ]
  },
  {
   "cell_type": "markdown",
   "id": "91e8ac87-fd95-4f16-9829-fd0eb8381030",
   "metadata": {},
   "source": [
    "#### Scale Data, Create and Fit Model"
   ]
  },
  {
   "cell_type": "code",
   "execution_count": 65,
   "id": "540c1a43-c809-450d-aa91-55355c660199",
   "metadata": {},
   "outputs": [],
   "source": [
    "from sklearn import decomposition, datasets, model_selection, preprocessing, metrics\n",
    "\n",
    "# NMF does not allow negative input, so we don't want to center the data\n",
    "scaler = preprocessing.StandardScaler(with_mean=False).fit(X_train)\n",
    "X_train_sc = scaler.transform(X_train)\n",
    "X_test_sc = scaler.transform(X_test)\n",
    "\n",
    "nmf = decomposition.NMF(n_components=None, max_iter=500, random_state=8, init='random').fit(X_train_sc)"
   ]
  },
  {
   "cell_type": "markdown",
   "id": "bb2d8fd0-1523-4901-b13e-18c8aefd7439",
   "metadata": {},
   "source": [
    "#### Calculate RMSE\n",
    "\n",
    "RMSE is at least balanced between train and test, but is still at around 0.67. A simple gradient boosted ensemble classifier (below) easily achieves half that RMSE. "
   ]
  },
  {
   "cell_type": "code",
   "execution_count": 66,
   "id": "765f9f09-f7c0-4f0e-bc53-3715c566eb3c",
   "metadata": {},
   "outputs": [
    {
     "name": "stdout",
     "output_type": "stream",
     "text": [
      "Train Set RMSE: 0.6738686972921465\n",
      "Test Set RMSE: 0.6739360760282939\n"
     ]
    }
   ],
   "source": [
    "prediction = nmf.inverse_transform(nmf.transform(X_train_sc))\n",
    "print(f'Train Set RMSE: {metrics.mean_squared_error(X_train_sc, prediction)}')\n",
    "\n",
    "prediction = nmf.inverse_transform(nmf.transform(X_test_sc))\n",
    "print(f'Test Set RMSE: {metrics.mean_squared_error(X_test_sc, prediction)}')"
   ]
  },
  {
   "cell_type": "markdown",
   "id": "175b03df-6c2a-4b8f-a421-50583ab9b9de",
   "metadata": {},
   "source": [
    "#### Compare With Supervised Method"
   ]
  },
  {
   "cell_type": "code",
   "execution_count": 81,
   "id": "7379b6e5-fad7-44ac-a00c-2fa524b7b908",
   "metadata": {},
   "outputs": [
    {
     "name": "stdout",
     "output_type": "stream",
     "text": [
      "0.3538649806241077\n"
     ]
    }
   ],
   "source": [
    "from sklearn.ensemble import GradientBoostingClassifier\n",
    "\n",
    "clf = GradientBoostingClassifier(n_estimators=10, learning_rate=0.05, max_depth=5, random_state=8)\n",
    "clf.fit(X_train, y_train)\n",
    "\n",
    "print(clf.score(X_test, y_test))"
   ]
  },
  {
   "cell_type": "markdown",
   "id": "2c10fbff-5249-4764-abbb-41b8ff79b98d",
   "metadata": {},
   "source": [
    "### Commentary on Limitations of NMF\n",
    "\n",
    "NMF is NP-hard, which means it does not scale efficiently as the size of the dataset increases. \n",
    "\n",
    "Another issue with NMF is that there is no guaranteed single unique decomposition. It needs to be probabilistically optimized using a liklihood function.\n",
    "\n",
    "It's also sensitive to how the W and H matrices are intialized. "
   ]
  },
  {
   "cell_type": "code",
   "execution_count": null,
   "id": "4c5528c2-a347-4e8c-a8c8-c39430c3a851",
   "metadata": {},
   "outputs": [],
   "source": []
  }
 ],
 "metadata": {
  "kernelspec": {
   "display_name": "Python 3 (ipykernel)",
   "language": "python",
   "name": "python3"
  },
  "language_info": {
   "codemirror_mode": {
    "name": "ipython",
    "version": 3
   },
   "file_extension": ".py",
   "mimetype": "text/x-python",
   "name": "python",
   "nbconvert_exporter": "python",
   "pygments_lexer": "ipython3",
   "version": "3.9.12"
  }
 },
 "nbformat": 4,
 "nbformat_minor": 5
}
